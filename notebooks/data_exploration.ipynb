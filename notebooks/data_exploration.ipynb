{
 "cells": [
  {
   "cell_type": "code",
   "execution_count": 1,
   "metadata": {},
   "outputs": [],
   "source": [
    "import numpy as np\n",
    "import pandas as pd"
   ]
  },
  {
   "cell_type": "markdown",
   "metadata": {},
   "source": [
    "### Reading the data and checking for nans"
   ]
  },
  {
   "cell_type": "code",
   "execution_count": 2,
   "metadata": {},
   "outputs": [
    {
     "name": "stdout",
     "output_type": "stream",
     "text": [
      "Unnamed: 0     0\n",
      "reference      0\n",
      "translation    0\n",
      "similarity     0\n",
      "lenght_diff    0\n",
      "ref_tox        0\n",
      "trn_tox        0\n",
      "dtype: int64\n"
     ]
    }
   ],
   "source": [
    "df = pd.read_csv('../data/raw/filtered.tsv', sep='\\t')\n",
    "print(df.isna().sum())"
   ]
  },
  {
   "cell_type": "markdown",
   "metadata": {},
   "source": [
    "No nans, good!"
   ]
  },
  {
   "cell_type": "markdown",
   "metadata": {},
   "source": [
    "### Clearing the data and removing duplicates"
   ]
  },
  {
   "cell_type": "code",
   "execution_count": 3,
   "metadata": {},
   "outputs": [
    {
     "data": {
      "text/html": [
       "<div>\n",
       "<style scoped>\n",
       "    .dataframe tbody tr th:only-of-type {\n",
       "        vertical-align: middle;\n",
       "    }\n",
       "\n",
       "    .dataframe tbody tr th {\n",
       "        vertical-align: top;\n",
       "    }\n",
       "\n",
       "    .dataframe thead th {\n",
       "        text-align: right;\n",
       "    }\n",
       "</style>\n",
       "<table border=\"1\" class=\"dataframe\">\n",
       "  <thead>\n",
       "    <tr style=\"text-align: right;\">\n",
       "      <th></th>\n",
       "      <th>reference</th>\n",
       "      <th>translation</th>\n",
       "      <th>similarity</th>\n",
       "      <th>length_diff</th>\n",
       "      <th>ref_tox</th>\n",
       "      <th>trn_tox</th>\n",
       "    </tr>\n",
       "  </thead>\n",
       "  <tbody>\n",
       "    <tr>\n",
       "      <th>0</th>\n",
       "      <td>If Alkar is flooding her with psychic waste, t...</td>\n",
       "      <td>if Alkar floods her with her mental waste, it ...</td>\n",
       "      <td>0.785171</td>\n",
       "      <td>0.010309</td>\n",
       "      <td>0.014195</td>\n",
       "      <td>0.981983</td>\n",
       "    </tr>\n",
       "    <tr>\n",
       "      <th>1</th>\n",
       "      <td>Now you're getting nasty.</td>\n",
       "      <td>you're becoming disgusting.</td>\n",
       "      <td>0.749687</td>\n",
       "      <td>0.071429</td>\n",
       "      <td>0.065473</td>\n",
       "      <td>0.999039</td>\n",
       "    </tr>\n",
       "    <tr>\n",
       "      <th>2</th>\n",
       "      <td>Well, we could spare your life, for one.</td>\n",
       "      <td>well, we can spare your life.</td>\n",
       "      <td>0.919051</td>\n",
       "      <td>0.268293</td>\n",
       "      <td>0.213313</td>\n",
       "      <td>0.985068</td>\n",
       "    </tr>\n",
       "    <tr>\n",
       "      <th>3</th>\n",
       "      <td>Ah! Monkey, you've got to snap out of it.</td>\n",
       "      <td>monkey, you have to wake up.</td>\n",
       "      <td>0.664333</td>\n",
       "      <td>0.309524</td>\n",
       "      <td>0.053362</td>\n",
       "      <td>0.994215</td>\n",
       "    </tr>\n",
       "    <tr>\n",
       "      <th>4</th>\n",
       "      <td>I've got orders to put her down.</td>\n",
       "      <td>I have orders to kill her.</td>\n",
       "      <td>0.726639</td>\n",
       "      <td>0.181818</td>\n",
       "      <td>0.009402</td>\n",
       "      <td>0.999348</td>\n",
       "    </tr>\n",
       "  </tbody>\n",
       "</table>\n",
       "</div>"
      ],
      "text/plain": [
       "                                           reference  \\\n",
       "0  If Alkar is flooding her with psychic waste, t...   \n",
       "1                          Now you're getting nasty.   \n",
       "2           Well, we could spare your life, for one.   \n",
       "3          Ah! Monkey, you've got to snap out of it.   \n",
       "4                   I've got orders to put her down.   \n",
       "\n",
       "                                         translation  similarity  length_diff  \\\n",
       "0  if Alkar floods her with her mental waste, it ...    0.785171     0.010309   \n",
       "1                        you're becoming disgusting.    0.749687     0.071429   \n",
       "2                      well, we can spare your life.    0.919051     0.268293   \n",
       "3                       monkey, you have to wake up.    0.664333     0.309524   \n",
       "4                         I have orders to kill her.    0.726639     0.181818   \n",
       "\n",
       "    ref_tox   trn_tox  \n",
       "0  0.014195  0.981983  \n",
       "1  0.065473  0.999039  \n",
       "2  0.213313  0.985068  \n",
       "3  0.053362  0.994215  \n",
       "4  0.009402  0.999348  "
      ]
     },
     "execution_count": 3,
     "metadata": {},
     "output_type": "execute_result"
    }
   ],
   "source": [
    "df.drop(columns=['Unnamed: 0'], inplace=True)\n",
    "df.rename(columns={'lenght_diff': 'length_diff'}, inplace=True)\n",
    "df.head()"
   ]
  },
  {
   "cell_type": "markdown",
   "metadata": {},
   "source": [
    "### Making the text lowercase and removing special characters"
   ]
  },
  {
   "cell_type": "code",
   "execution_count": 4,
   "metadata": {},
   "outputs": [
    {
     "data": {
      "text/html": [
       "<div>\n",
       "<style scoped>\n",
       "    .dataframe tbody tr th:only-of-type {\n",
       "        vertical-align: middle;\n",
       "    }\n",
       "\n",
       "    .dataframe tbody tr th {\n",
       "        vertical-align: top;\n",
       "    }\n",
       "\n",
       "    .dataframe thead th {\n",
       "        text-align: right;\n",
       "    }\n",
       "</style>\n",
       "<table border=\"1\" class=\"dataframe\">\n",
       "  <thead>\n",
       "    <tr style=\"text-align: right;\">\n",
       "      <th></th>\n",
       "      <th>reference</th>\n",
       "      <th>translation</th>\n",
       "      <th>similarity</th>\n",
       "      <th>length_diff</th>\n",
       "      <th>ref_tox</th>\n",
       "      <th>trn_tox</th>\n",
       "    </tr>\n",
       "  </thead>\n",
       "  <tbody>\n",
       "    <tr>\n",
       "      <th>0</th>\n",
       "      <td>if alkar is flooding her with psychic waste th...</td>\n",
       "      <td>if alkar floods her with her mental waste it w...</td>\n",
       "      <td>0.785171</td>\n",
       "      <td>0.010309</td>\n",
       "      <td>0.014195</td>\n",
       "      <td>0.981983</td>\n",
       "    </tr>\n",
       "    <tr>\n",
       "      <th>1</th>\n",
       "      <td>now youre getting nasty</td>\n",
       "      <td>youre becoming disgusting</td>\n",
       "      <td>0.749687</td>\n",
       "      <td>0.071429</td>\n",
       "      <td>0.065473</td>\n",
       "      <td>0.999039</td>\n",
       "    </tr>\n",
       "    <tr>\n",
       "      <th>2</th>\n",
       "      <td>well we could spare your life for one</td>\n",
       "      <td>well we can spare your life</td>\n",
       "      <td>0.919051</td>\n",
       "      <td>0.268293</td>\n",
       "      <td>0.213313</td>\n",
       "      <td>0.985068</td>\n",
       "    </tr>\n",
       "    <tr>\n",
       "      <th>3</th>\n",
       "      <td>ah monkey youve got to snap out of it</td>\n",
       "      <td>monkey you have to wake up</td>\n",
       "      <td>0.664333</td>\n",
       "      <td>0.309524</td>\n",
       "      <td>0.053362</td>\n",
       "      <td>0.994215</td>\n",
       "    </tr>\n",
       "    <tr>\n",
       "      <th>4</th>\n",
       "      <td>ive got orders to put her down</td>\n",
       "      <td>i have orders to kill her</td>\n",
       "      <td>0.726639</td>\n",
       "      <td>0.181818</td>\n",
       "      <td>0.009402</td>\n",
       "      <td>0.999348</td>\n",
       "    </tr>\n",
       "  </tbody>\n",
       "</table>\n",
       "</div>"
      ],
      "text/plain": [
       "                                           reference  \\\n",
       "0  if alkar is flooding her with psychic waste th...   \n",
       "1                            now youre getting nasty   \n",
       "2              well we could spare your life for one   \n",
       "3              ah monkey youve got to snap out of it   \n",
       "4                     ive got orders to put her down   \n",
       "\n",
       "                                         translation  similarity  length_diff  \\\n",
       "0  if alkar floods her with her mental waste it w...    0.785171     0.010309   \n",
       "1                          youre becoming disgusting    0.749687     0.071429   \n",
       "2                        well we can spare your life    0.919051     0.268293   \n",
       "3                         monkey you have to wake up    0.664333     0.309524   \n",
       "4                          i have orders to kill her    0.726639     0.181818   \n",
       "\n",
       "    ref_tox   trn_tox  \n",
       "0  0.014195  0.981983  \n",
       "1  0.065473  0.999039  \n",
       "2  0.213313  0.985068  \n",
       "3  0.053362  0.994215  \n",
       "4  0.009402  0.999348  "
      ]
     },
     "execution_count": 4,
     "metadata": {},
     "output_type": "execute_result"
    }
   ],
   "source": [
    "df['reference'] = df['reference'].str.lower().str.replace(r\"[^a-z0-9\\s]\", \"\", regex=True).str.strip()\n",
    "df['translation'] = df['translation'].str.lower().str.replace(r\"[^a-z0-9\\s]\", \"\", regex=True).str.strip()\n",
    "df.head()"
   ]
  },
  {
   "cell_type": "markdown",
   "metadata": {},
   "source": [
    "### Checking the distriburion of the columns to understand the data better"
   ]
  },
  {
   "cell_type": "code",
   "execution_count": 5,
   "metadata": {},
   "outputs": [
    {
     "data": {
      "text/plain": [
       "(          similarity    length_diff        ref_tox        trn_tox\n",
       " count  577777.000000  577777.000000  577777.000000  577777.000000\n",
       " mean        0.758469       0.157652       0.541372       0.434490\n",
       " std         0.092695       0.108057       0.457571       0.458904\n",
       " min         0.600001       0.000000       0.000033       0.000033\n",
       " 25%         0.681105       0.066667       0.012171       0.000707\n",
       " 50%         0.754439       0.141791       0.806795       0.085133\n",
       " 75%         0.831244       0.238095       0.990469       0.973739\n",
       " max         0.950000       0.400000       0.999724       0.999730,\n",
       " {'ref_tox': count    577777.000000\n",
       "  mean          0.541372\n",
       "  std           0.457571\n",
       "  min           0.000033\n",
       "  25%           0.012171\n",
       "  50%           0.806795\n",
       "  75%           0.990469\n",
       "  max           0.999724\n",
       "  Name: ref_tox, dtype: float64,\n",
       "  'trn_tox': count    577777.000000\n",
       "  mean          0.434490\n",
       "  std           0.458904\n",
       "  min           0.000033\n",
       "  25%           0.000707\n",
       "  50%           0.085133\n",
       "  75%           0.973739\n",
       "  max           0.999730\n",
       "  Name: trn_tox, dtype: float64},\n",
       " count    577777.000000\n",
       " mean          0.758469\n",
       " std           0.092695\n",
       " min           0.600001\n",
       " 25%           0.681105\n",
       " 50%           0.754439\n",
       " 75%           0.831244\n",
       " max           0.950000\n",
       " Name: similarity, dtype: float64,\n",
       " count    577777.000000\n",
       " mean          0.157652\n",
       " std           0.108057\n",
       " min           0.000000\n",
       " 25%           0.066667\n",
       " 50%           0.141791\n",
       " 75%           0.238095\n",
       " max           0.400000\n",
       " Name: length_diff, dtype: float64)"
      ]
     },
     "execution_count": 5,
     "metadata": {},
     "output_type": "execute_result"
    }
   ],
   "source": [
    "descriptive_stats = df.describe()\n",
    "\n",
    "# Checking the distribution of the toxicity levels for both reference and translation texts\n",
    "toxicity_distribution = {\n",
    "    'ref_tox': df['ref_tox'].describe(),\n",
    "    'trn_tox': df['trn_tox'].describe()\n",
    "}\n",
    "\n",
    "# Checking the distribution of similarity and length difference\n",
    "similarity_distribution = df['similarity'].describe()\n",
    "length_diff_distribution = df['length_diff'].describe()\n",
    "\n",
    "descriptive_stats, toxicity_distribution, similarity_distribution, length_diff_distribution"
   ]
  },
  {
   "cell_type": "markdown",
   "metadata": {},
   "source": [
    "### Checking the correlations between variables to decide which ones should be dropped"
   ]
  },
  {
   "cell_type": "code",
   "execution_count": 6,
   "metadata": {},
   "outputs": [
    {
     "data": {
      "text/html": [
       "<style type=\"text/css\">\n",
       "#T_a45a9_row0_col0, #T_a45a9_row1_col1, #T_a45a9_row2_col2, #T_a45a9_row3_col3 {\n",
       "  background-color: #b40426;\n",
       "  color: #f1f1f1;\n",
       "}\n",
       "#T_a45a9_row0_col1, #T_a45a9_row1_col0, #T_a45a9_row2_col3, #T_a45a9_row3_col2 {\n",
       "  background-color: #3b4cc0;\n",
       "  color: #f1f1f1;\n",
       "}\n",
       "#T_a45a9_row0_col2 {\n",
       "  background-color: #e5d8d1;\n",
       "  color: #000000;\n",
       "}\n",
       "#T_a45a9_row0_col3 {\n",
       "  background-color: #cdd9ec;\n",
       "  color: #000000;\n",
       "}\n",
       "#T_a45a9_row1_col2 {\n",
       "  background-color: #d8dce2;\n",
       "  color: #000000;\n",
       "}\n",
       "#T_a45a9_row1_col3 {\n",
       "  background-color: #dcdddd;\n",
       "  color: #000000;\n",
       "}\n",
       "#T_a45a9_row2_col0 {\n",
       "  background-color: #7396f5;\n",
       "  color: #f1f1f1;\n",
       "}\n",
       "#T_a45a9_row2_col1 {\n",
       "  background-color: #5470de;\n",
       "  color: #f1f1f1;\n",
       "}\n",
       "#T_a45a9_row3_col0 {\n",
       "  background-color: #3f53c6;\n",
       "  color: #f1f1f1;\n",
       "}\n",
       "#T_a45a9_row3_col1 {\n",
       "  background-color: #5d7ce6;\n",
       "  color: #f1f1f1;\n",
       "}\n",
       "</style>\n",
       "<table id=\"T_a45a9\">\n",
       "  <thead>\n",
       "    <tr>\n",
       "      <th class=\"blank level0\" >&nbsp;</th>\n",
       "      <th id=\"T_a45a9_level0_col0\" class=\"col_heading level0 col0\" >length_diff</th>\n",
       "      <th id=\"T_a45a9_level0_col1\" class=\"col_heading level0 col1\" >similarity</th>\n",
       "      <th id=\"T_a45a9_level0_col2\" class=\"col_heading level0 col2\" >ref_tox</th>\n",
       "      <th id=\"T_a45a9_level0_col3\" class=\"col_heading level0 col3\" >trn_tox</th>\n",
       "    </tr>\n",
       "  </thead>\n",
       "  <tbody>\n",
       "    <tr>\n",
       "      <th id=\"T_a45a9_level0_row0\" class=\"row_heading level0 row0\" >length_diff</th>\n",
       "      <td id=\"T_a45a9_row0_col0\" class=\"data row0 col0\" >1.000000</td>\n",
       "      <td id=\"T_a45a9_row0_col1\" class=\"data row0 col1\" >-0.106921</td>\n",
       "      <td id=\"T_a45a9_row0_col2\" class=\"data row0 col2\" >0.088967</td>\n",
       "      <td id=\"T_a45a9_row0_col3\" class=\"data row0 col3\" >-0.088656</td>\n",
       "    </tr>\n",
       "    <tr>\n",
       "      <th id=\"T_a45a9_level0_row1\" class=\"row_heading level0 row1\" >similarity</th>\n",
       "      <td id=\"T_a45a9_row1_col0\" class=\"data row1 col0\" >-0.106921</td>\n",
       "      <td id=\"T_a45a9_row1_col1\" class=\"data row1 col1\" >1.000000</td>\n",
       "      <td id=\"T_a45a9_row1_col2\" class=\"data row1 col2\" >-0.012626</td>\n",
       "      <td id=\"T_a45a9_row1_col3\" class=\"data row1 col3\" >0.015804</td>\n",
       "    </tr>\n",
       "    <tr>\n",
       "      <th id=\"T_a45a9_level0_row2\" class=\"row_heading level0 row2\" >ref_tox</th>\n",
       "      <td id=\"T_a45a9_row2_col0\" class=\"data row2 col0\" >0.088967</td>\n",
       "      <td id=\"T_a45a9_row2_col1\" class=\"data row2 col1\" >-0.012626</td>\n",
       "      <td id=\"T_a45a9_row2_col2\" class=\"data row2 col2\" >1.000000</td>\n",
       "      <td id=\"T_a45a9_row2_col3\" class=\"data row2 col3\" >-0.959669</td>\n",
       "    </tr>\n",
       "    <tr>\n",
       "      <th id=\"T_a45a9_level0_row3\" class=\"row_heading level0 row3\" >trn_tox</th>\n",
       "      <td id=\"T_a45a9_row3_col0\" class=\"data row3 col0\" >-0.088656</td>\n",
       "      <td id=\"T_a45a9_row3_col1\" class=\"data row3 col1\" >0.015804</td>\n",
       "      <td id=\"T_a45a9_row3_col2\" class=\"data row3 col2\" >-0.959669</td>\n",
       "      <td id=\"T_a45a9_row3_col3\" class=\"data row3 col3\" >1.000000</td>\n",
       "    </tr>\n",
       "  </tbody>\n",
       "</table>\n"
      ],
      "text/plain": [
       "<pandas.io.formats.style.Styler at 0x174678980>"
      ]
     },
     "execution_count": 6,
     "metadata": {},
     "output_type": "execute_result"
    }
   ],
   "source": [
    "# Calculate the correlations between variables\n",
    "correlations = df[[\"length_diff\", \"similarity\", \"ref_tox\", \"trn_tox\"]].corr()\n",
    "\n",
    "# Check the correlations\n",
    "correlations_display = correlations.style.background_gradient(cmap='coolwarm')\n",
    "\n",
    "correlations_display"
   ]
  },
  {
   "cell_type": "markdown",
   "metadata": {},
   "source": [
    "As I am going to use a text-based model, and as the correlation of the similarity and length_diff is extremely low, I will drop these columns."
   ]
  },
  {
   "cell_type": "code",
   "execution_count": 7,
   "metadata": {},
   "outputs": [
    {
     "data": {
      "text/html": [
       "<div>\n",
       "<style scoped>\n",
       "    .dataframe tbody tr th:only-of-type {\n",
       "        vertical-align: middle;\n",
       "    }\n",
       "\n",
       "    .dataframe tbody tr th {\n",
       "        vertical-align: top;\n",
       "    }\n",
       "\n",
       "    .dataframe thead th {\n",
       "        text-align: right;\n",
       "    }\n",
       "</style>\n",
       "<table border=\"1\" class=\"dataframe\">\n",
       "  <thead>\n",
       "    <tr style=\"text-align: right;\">\n",
       "      <th></th>\n",
       "      <th>reference</th>\n",
       "      <th>translation</th>\n",
       "      <th>ref_tox</th>\n",
       "      <th>trn_tox</th>\n",
       "    </tr>\n",
       "  </thead>\n",
       "  <tbody>\n",
       "    <tr>\n",
       "      <th>0</th>\n",
       "      <td>if alkar is flooding her with psychic waste th...</td>\n",
       "      <td>if alkar floods her with her mental waste it w...</td>\n",
       "      <td>0.014195</td>\n",
       "      <td>0.981983</td>\n",
       "    </tr>\n",
       "    <tr>\n",
       "      <th>1</th>\n",
       "      <td>now youre getting nasty</td>\n",
       "      <td>youre becoming disgusting</td>\n",
       "      <td>0.065473</td>\n",
       "      <td>0.999039</td>\n",
       "    </tr>\n",
       "    <tr>\n",
       "      <th>2</th>\n",
       "      <td>well we could spare your life for one</td>\n",
       "      <td>well we can spare your life</td>\n",
       "      <td>0.213313</td>\n",
       "      <td>0.985068</td>\n",
       "    </tr>\n",
       "    <tr>\n",
       "      <th>3</th>\n",
       "      <td>ah monkey youve got to snap out of it</td>\n",
       "      <td>monkey you have to wake up</td>\n",
       "      <td>0.053362</td>\n",
       "      <td>0.994215</td>\n",
       "    </tr>\n",
       "    <tr>\n",
       "      <th>4</th>\n",
       "      <td>ive got orders to put her down</td>\n",
       "      <td>i have orders to kill her</td>\n",
       "      <td>0.009402</td>\n",
       "      <td>0.999348</td>\n",
       "    </tr>\n",
       "  </tbody>\n",
       "</table>\n",
       "</div>"
      ],
      "text/plain": [
       "                                           reference  \\\n",
       "0  if alkar is flooding her with psychic waste th...   \n",
       "1                            now youre getting nasty   \n",
       "2              well we could spare your life for one   \n",
       "3              ah monkey youve got to snap out of it   \n",
       "4                     ive got orders to put her down   \n",
       "\n",
       "                                         translation   ref_tox   trn_tox  \n",
       "0  if alkar floods her with her mental waste it w...  0.014195  0.981983  \n",
       "1                          youre becoming disgusting  0.065473  0.999039  \n",
       "2                        well we can spare your life  0.213313  0.985068  \n",
       "3                         monkey you have to wake up  0.053362  0.994215  \n",
       "4                          i have orders to kill her  0.009402  0.999348  "
      ]
     },
     "execution_count": 7,
     "metadata": {},
     "output_type": "execute_result"
    }
   ],
   "source": [
    "filtered_data = df.drop(['similarity', 'length_diff'], axis=1)\n",
    "filtered_data.head()"
   ]
  },
  {
   "cell_type": "markdown",
   "metadata": {},
   "source": [
    "### Now I will swap the columns so that the reference is always of high toxicity and the translation is of low toxicity"
   ]
  },
  {
   "cell_type": "code",
   "execution_count": 8,
   "metadata": {},
   "outputs": [
    {
     "data": {
      "text/html": [
       "<div>\n",
       "<style scoped>\n",
       "    .dataframe tbody tr th:only-of-type {\n",
       "        vertical-align: middle;\n",
       "    }\n",
       "\n",
       "    .dataframe tbody tr th {\n",
       "        vertical-align: top;\n",
       "    }\n",
       "\n",
       "    .dataframe thead th {\n",
       "        text-align: right;\n",
       "    }\n",
       "</style>\n",
       "<table border=\"1\" class=\"dataframe\">\n",
       "  <thead>\n",
       "    <tr style=\"text-align: right;\">\n",
       "      <th></th>\n",
       "      <th>reference</th>\n",
       "      <th>translation</th>\n",
       "      <th>ref_tox</th>\n",
       "      <th>trn_tox</th>\n",
       "    </tr>\n",
       "  </thead>\n",
       "  <tbody>\n",
       "    <tr>\n",
       "      <th>0</th>\n",
       "      <td>if alkar floods her with her mental waste it w...</td>\n",
       "      <td>if alkar is flooding her with psychic waste th...</td>\n",
       "      <td>0.981983</td>\n",
       "      <td>0.014195</td>\n",
       "    </tr>\n",
       "    <tr>\n",
       "      <th>1</th>\n",
       "      <td>youre becoming disgusting</td>\n",
       "      <td>now youre getting nasty</td>\n",
       "      <td>0.999039</td>\n",
       "      <td>0.065473</td>\n",
       "    </tr>\n",
       "    <tr>\n",
       "      <th>2</th>\n",
       "      <td>well we can spare your life</td>\n",
       "      <td>well we could spare your life for one</td>\n",
       "      <td>0.985068</td>\n",
       "      <td>0.213313</td>\n",
       "    </tr>\n",
       "    <tr>\n",
       "      <th>3</th>\n",
       "      <td>monkey you have to wake up</td>\n",
       "      <td>ah monkey youve got to snap out of it</td>\n",
       "      <td>0.994215</td>\n",
       "      <td>0.053362</td>\n",
       "    </tr>\n",
       "    <tr>\n",
       "      <th>4</th>\n",
       "      <td>i have orders to kill her</td>\n",
       "      <td>ive got orders to put her down</td>\n",
       "      <td>0.999348</td>\n",
       "      <td>0.009402</td>\n",
       "    </tr>\n",
       "  </tbody>\n",
       "</table>\n",
       "</div>"
      ],
      "text/plain": [
       "                                           reference  \\\n",
       "0  if alkar floods her with her mental waste it w...   \n",
       "1                          youre becoming disgusting   \n",
       "2                        well we can spare your life   \n",
       "3                         monkey you have to wake up   \n",
       "4                          i have orders to kill her   \n",
       "\n",
       "                                         translation   ref_tox   trn_tox  \n",
       "0  if alkar is flooding her with psychic waste th...  0.981983  0.014195  \n",
       "1                            now youre getting nasty  0.999039  0.065473  \n",
       "2              well we could spare your life for one  0.985068  0.213313  \n",
       "3              ah monkey youve got to snap out of it  0.994215  0.053362  \n",
       "4                     ive got orders to put her down  0.999348  0.009402  "
      ]
     },
     "execution_count": 8,
     "metadata": {},
     "output_type": "execute_result"
    }
   ],
   "source": [
    "filtered_data_swapped = filtered_data.copy()\n",
    "\n",
    "# Need to swap the values where the reference toxicity is lower than the translation toxicity\n",
    "needs_swap = filtered_data_swapped['ref_tox'] < filtered_data_swapped['trn_tox']\n",
    "\n",
    "# Swapping the reference and translation texts\n",
    "filtered_data_swapped.loc[needs_swap, ['reference', 'translation']] = filtered_data_swapped.loc[needs_swap, ['translation', 'reference']].values\n",
    "\n",
    "# Swapping the toxicity scores\n",
    "filtered_data_swapped.loc[needs_swap, ['ref_tox', 'trn_tox']] = filtered_data_swapped.loc[needs_swap, ['trn_tox', 'ref_tox']].values\n",
    "\n",
    "# Display the first few rows of the data after swapping\n",
    "filtered_data_swapped.head()"
   ]
  },
  {
   "cell_type": "markdown",
   "metadata": {},
   "source": [
    "### Forgot to drop duplicates!"
   ]
  },
  {
   "cell_type": "code",
   "execution_count": 9,
   "metadata": {},
   "outputs": [
    {
     "name": "stdout",
     "output_type": "stream",
     "text": [
      "19660\n"
     ]
    }
   ],
   "source": [
    "duplicates = filtered_data_swapped.duplicated().sum()\n",
    "\n",
    "# Number of duplicated entries\n",
    "print(duplicates)"
   ]
  },
  {
   "cell_type": "code",
   "execution_count": 10,
   "metadata": {},
   "outputs": [],
   "source": [
    "filtered_data_swapped = filtered_data_swapped.drop_duplicates()"
   ]
  },
  {
   "cell_type": "markdown",
   "metadata": {},
   "source": [
    "### Now I will remove the rows where the difference between the toxicity is not big enough"
   ]
  },
  {
   "cell_type": "code",
   "execution_count": 40,
   "metadata": {},
   "outputs": [
    {
     "data": {
      "image/png": "[encoded data removed]",
      "text/plain": [
       "<Figure size 1000x600 with 1 Axes>"
      ]
     },
     "metadata": {},
     "output_type": "display_data"
    }
   ],
   "source": [
    "# How to find out \"big enough\" though?\n",
    "import matplotlib.pyplot as plt\n",
    "\n",
    "filtered_data_diff = filtered_data_swapped.copy()\n",
    "filtered_data_diff['tox_diff'] = (filtered_data_diff['ref_tox'] - filtered_data_diff['trn_tox']).abs()\n",
    "# Plot the differences between the toxicity levels\n",
    "plt.figure(figsize=(10, 6))\n",
    "plt.hist(filtered_data_diff['tox_diff'], bins=30, color='skyblue', edgecolor='black')\n",
    "plt.title('Distribution of Toxicity Differences')\n",
    "plt.xlabel('Toxicity Difference (ref_tox - trn_tox)')\n",
    "plt.ylabel('Frequency')\n",
    "plt.grid(axis='y', alpha=0.75)\n",
    "plt.show()"
   ]
  },
  {
   "cell_type": "markdown",
   "metadata": {},
   "source": [
    "### I still have no idea, but let's take 0.6 as the value and experiment with it"
   ]
  },
  {
   "cell_type": "code",
   "execution_count": 12,
   "metadata": {},
   "outputs": [
    {
     "data": {
      "text/html": [
       "<div>\n",
       "<style scoped>\n",
       "    .dataframe tbody tr th:only-of-type {\n",
       "        vertical-align: middle;\n",
       "    }\n",
       "\n",
       "    .dataframe tbody tr th {\n",
       "        vertical-align: top;\n",
       "    }\n",
       "\n",
       "    .dataframe thead th {\n",
       "        text-align: right;\n",
       "    }\n",
       "</style>\n",
       "<table border=\"1\" class=\"dataframe\">\n",
       "  <thead>\n",
       "    <tr style=\"text-align: right;\">\n",
       "      <th></th>\n",
       "      <th>reference</th>\n",
       "      <th>translation</th>\n",
       "      <th>ref_tox</th>\n",
       "      <th>trn_tox</th>\n",
       "      <th>tox_diff</th>\n",
       "    </tr>\n",
       "  </thead>\n",
       "  <tbody>\n",
       "    <tr>\n",
       "      <th>295354</th>\n",
       "      <td>shite  i dont think theyre very happy</td>\n",
       "      <td>i dont think theyre very happy</td>\n",
       "      <td>0.600186</td>\n",
       "      <td>0.000048</td>\n",
       "      <td>0.600138</td>\n",
       "    </tr>\n",
       "    <tr>\n",
       "      <th>463665</th>\n",
       "      <td>if you want to understand animals i mean i mea...</td>\n",
       "      <td>if you want to understand game i mean really u...</td>\n",
       "      <td>0.600211</td>\n",
       "      <td>0.000096</td>\n",
       "      <td>0.600115</td>\n",
       "    </tr>\n",
       "    <tr>\n",
       "      <th>9913</th>\n",
       "      <td>sonia that smells awful</td>\n",
       "      <td>sonio that is a terrible thing</td>\n",
       "      <td>0.600287</td>\n",
       "      <td>0.000106</td>\n",
       "      <td>0.600180</td>\n",
       "    </tr>\n",
       "    <tr>\n",
       "      <th>23368</th>\n",
       "      <td>sam dolans father is out of his mind</td>\n",
       "      <td>sam dolans father checks out</td>\n",
       "      <td>0.600304</td>\n",
       "      <td>0.000047</td>\n",
       "      <td>0.600257</td>\n",
       "    </tr>\n",
       "    <tr>\n",
       "      <th>307374</th>\n",
       "      <td>theres a guy out there whos fucking serious</td>\n",
       "      <td>this is one very serious boy we have out there</td>\n",
       "      <td>0.600321</td>\n",
       "      <td>0.000095</td>\n",
       "      <td>0.600226</td>\n",
       "    </tr>\n",
       "    <tr>\n",
       "      <th>...</th>\n",
       "      <td>...</td>\n",
       "      <td>...</td>\n",
       "      <td>...</td>\n",
       "      <td>...</td>\n",
       "      <td>...</td>\n",
       "    </tr>\n",
       "    <tr>\n",
       "      <th>265344</th>\n",
       "      <td>thats why i sent those idiots to watch you</td>\n",
       "      <td>thats why i sent those human turnips out to wa...</td>\n",
       "      <td>0.999724</td>\n",
       "      <td>0.007180</td>\n",
       "      <td>0.992544</td>\n",
       "    </tr>\n",
       "    <tr>\n",
       "      <th>551255</th>\n",
       "      <td>his father would have used a booming voice to ...</td>\n",
       "      <td>his father would have answered with his thunde...</td>\n",
       "      <td>0.999724</td>\n",
       "      <td>0.004599</td>\n",
       "      <td>0.995124</td>\n",
       "    </tr>\n",
       "    <tr>\n",
       "      <th>133403</th>\n",
       "      <td>because your idiot husband couldnt just wave m...</td>\n",
       "      <td>because your bozo husband couldnt just wave me...</td>\n",
       "      <td>0.999724</td>\n",
       "      <td>0.013691</td>\n",
       "      <td>0.986033</td>\n",
       "    </tr>\n",
       "    <tr>\n",
       "      <th>455358</th>\n",
       "      <td>thats the last time we played poker with some ...</td>\n",
       "      <td>that is the last time i play poker with some h...</td>\n",
       "      <td>0.999726</td>\n",
       "      <td>0.076075</td>\n",
       "      <td>0.923651</td>\n",
       "    </tr>\n",
       "    <tr>\n",
       "      <th>84835</th>\n",
       "      <td>someone for sure but not these idiots</td>\n",
       "      <td>somebody does but not these mooks</td>\n",
       "      <td>0.999730</td>\n",
       "      <td>0.003280</td>\n",
       "      <td>0.996451</td>\n",
       "    </tr>\n",
       "  </tbody>\n",
       "</table>\n",
       "<p>529324 rows × 5 columns</p>\n",
       "</div>"
      ],
      "text/plain": [
       "                                                reference  \\\n",
       "295354              shite  i dont think theyre very happy   \n",
       "463665  if you want to understand animals i mean i mea...   \n",
       "9913                              sonia that smells awful   \n",
       "23368                sam dolans father is out of his mind   \n",
       "307374        theres a guy out there whos fucking serious   \n",
       "...                                                   ...   \n",
       "265344         thats why i sent those idiots to watch you   \n",
       "551255  his father would have used a booming voice to ...   \n",
       "133403  because your idiot husband couldnt just wave m...   \n",
       "455358  thats the last time we played poker with some ...   \n",
       "84835               someone for sure but not these idiots   \n",
       "\n",
       "                                              translation   ref_tox   trn_tox  \\\n",
       "295354                     i dont think theyre very happy  0.600186  0.000048   \n",
       "463665  if you want to understand game i mean really u...  0.600211  0.000096   \n",
       "9913                       sonio that is a terrible thing  0.600287  0.000106   \n",
       "23368                        sam dolans father checks out  0.600304  0.000047   \n",
       "307374     this is one very serious boy we have out there  0.600321  0.000095   \n",
       "...                                                   ...       ...       ...   \n",
       "265344  thats why i sent those human turnips out to wa...  0.999724  0.007180   \n",
       "551255  his father would have answered with his thunde...  0.999724  0.004599   \n",
       "133403  because your bozo husband couldnt just wave me...  0.999724  0.013691   \n",
       "455358  that is the last time i play poker with some h...  0.999726  0.076075   \n",
       "84835                   somebody does but not these mooks  0.999730  0.003280   \n",
       "\n",
       "        tox_diff  \n",
       "295354  0.600138  \n",
       "463665  0.600115  \n",
       "9913    0.600180  \n",
       "23368   0.600257  \n",
       "307374  0.600226  \n",
       "...          ...  \n",
       "265344  0.992544  \n",
       "551255  0.995124  \n",
       "133403  0.986033  \n",
       "455358  0.923651  \n",
       "84835   0.996451  \n",
       "\n",
       "[529324 rows x 5 columns]"
      ]
     },
     "execution_count": 12,
     "metadata": {},
     "output_type": "execute_result"
    }
   ],
   "source": [
    "high_toxicity_threshold = 0.6\n",
    "\n",
    "# Filter the dataset for high toxicity differences\n",
    "final_data = filtered_data_diff[filtered_data_diff['tox_diff'] > high_toxicity_threshold].sort_values(by='ref_tox', ascending=True)\n",
    "\n",
    "# Display the entries with low toxicity differences\n",
    "final_data"
   ]
  },
  {
   "cell_type": "markdown",
   "metadata": {},
   "source": [
    "### Deciding on the length of the embeddings\n"
   ]
  },
  {
   "cell_type": "code",
   "execution_count": 19,
   "metadata": {},
   "outputs": [
    {
     "data": {
      "image/png": "[encoded data removed]",
      "text/plain": [
       "<Figure size 1400x700 with 1 Axes>"
      ]
     },
     "metadata": {},
     "output_type": "display_data"
    }
   ],
   "source": [
    "# Let's see the distribution of the length of the strings\n",
    "import matplotlib.pyplot as plt\n",
    "\n",
    "# Calculate string lengths for each column\n",
    "final_data['reference_length'] = final_data['reference'].apply(len)\n",
    "final_data['translation_length'] = final_data['translation'].apply(len)\n",
    "\n",
    "# Plotting the distribution of string lengths\n",
    "plt.figure(figsize=(14, 7))\n",
    "\n",
    "# Histogram for the 'reference' column\n",
    "plt.hist(final_data['reference_length'], bins=20, alpha=0.5, label='Reference Length')\n",
    "\n",
    "# Histogram for the 'translation' column\n",
    "plt.hist(final_data['translation_length'], bins=20, alpha=0.5, label='Translation Length')\n",
    "\n",
    "plt.title('Distribution of String Lengths in DataFrame')\n",
    "plt.xlabel('String Length')\n",
    "plt.ylabel('Frequency')\n",
    "plt.legend(loc='upper right')\n",
    "\n",
    "plt.show()"
   ]
  },
  {
   "cell_type": "code",
   "execution_count": 29,
   "metadata": {},
   "outputs": [
    {
     "name": "stdout",
     "output_type": "stream",
     "text": [
      "(529324, 7)\n",
      "(527989, 2)\n"
     ]
    }
   ],
   "source": [
    "# Let's take 256 as the length of the embeddings, and see how much points will be cut off\n",
    "print(final_data.shape)\n",
    "data = final_data[(final_data['reference_length'] <= 256) & (final_data['translation_length'] <= 256)]\n",
    "longest_ref_len = data['reference'].apply(len).max()\n",
    "longest_tra_len = data['translation'].apply(len).max()\n",
    "training_data = data.drop(['reference_length', 'translation_length', 'tox_diff', 'ref_tox', 'trn_tox'], axis=1)\n",
    "print(training_data.shape)"
   ]
  },
  {
   "cell_type": "markdown",
   "metadata": {},
   "source": [
    "Just ~2000 samples were dropped, so we will take this value"
   ]
  },
  {
   "cell_type": "code",
   "execution_count": 36,
   "metadata": {},
   "outputs": [
    {
     "data": {
      "text/plain": [
       "reference      0\n",
       "translation    0\n",
       "dtype: int64"
      ]
     },
     "execution_count": 36,
     "metadata": {},
     "output_type": "execute_result"
    }
   ],
   "source": [
    "training_data.to_csv('../data/interim/training_data.csv', index=False)\n",
    "training_data.isna().sum()"
   ]
  },
  {
   "cell_type": "code",
   "execution_count": 38,
   "metadata": {},
   "outputs": [
    {
     "name": "stdout",
     "output_type": "stream",
     "text": [
      "reference      0\n",
      "translation    2\n",
      "dtype: int64\n"
     ]
    },
    {
     "data": {
      "text/html": [
       "<div>\n",
       "<style scoped>\n",
       "    .dataframe tbody tr th:only-of-type {\n",
       "        vertical-align: middle;\n",
       "    }\n",
       "\n",
       "    .dataframe tbody tr th {\n",
       "        vertical-align: top;\n",
       "    }\n",
       "\n",
       "    .dataframe thead th {\n",
       "        text-align: right;\n",
       "    }\n",
       "</style>\n",
       "<table border=\"1\" class=\"dataframe\">\n",
       "  <thead>\n",
       "    <tr style=\"text-align: right;\">\n",
       "      <th></th>\n",
       "      <th>reference</th>\n",
       "      <th>translation</th>\n",
       "    </tr>\n",
       "  </thead>\n",
       "  <tbody>\n",
       "    <tr>\n",
       "      <th>24184</th>\n",
       "      <td>fool and fracture em</td>\n",
       "      <td>NaN</td>\n",
       "    </tr>\n",
       "    <tr>\n",
       "      <th>318453</th>\n",
       "      <td>and sophie tucker will shit i know</td>\n",
       "      <td>NaN</td>\n",
       "    </tr>\n",
       "  </tbody>\n",
       "</table>\n",
       "</div>"
      ],
      "text/plain": [
       "                                 reference translation\n",
       "24184                 fool and fracture em         NaN\n",
       "318453  and sophie tucker will shit i know         NaN"
      ]
     },
     "execution_count": 38,
     "metadata": {},
     "output_type": "execute_result"
    }
   ],
   "source": [
    "dff = pd.read_csv('../data/interim/training_data.csv', dtype={'toxic_column': str, 'nontoxic_column': str})\n",
    "print(dff.isna().sum())\n",
    "nan_rows = dff[dff.isna().any(axis=1)]\n",
    "\n",
    "nan_rows"
   ]
  },
  {
   "cell_type": "markdown",
   "metadata": {},
   "source": [
    "# What?\n",
    "> 24257 nan <br>\n",
    "> 319614 nan"
   ]
  },
  {
   "cell_type": "code",
   "execution_count": 23,
   "metadata": {},
   "outputs": [
    {
     "name": "stdout",
     "output_type": "stream",
     "text": [
      "reference            you acted like a hamster but\n",
      "translation    youve behaved like a christian but\n",
      "Name: 24257, dtype: object\n",
      "reference            you acted like a hamster but\n",
      "translation    youve behaved like a christian but\n",
      "Name: 7619, dtype: object\n",
      "\n",
      "reference      fucking worse than ever\n",
      "translation            worse than ever\n",
      "Name: 319614, dtype: object\n",
      "reference      fucking worse than ever\n",
      "translation            worse than ever\n",
      "Name: 229143, dtype: object\n"
     ]
    }
   ],
   "source": [
    "print(dff.iloc[24257])\n",
    "print(training_data.iloc[24257])\n",
    "print()\n",
    "print(dff.iloc[319614])\n",
    "print(training_data.iloc[319614])"
   ]
  },
  {
   "cell_type": "markdown",
   "metadata": {},
   "source": [
    "Empty strings!"
   ]
  },
  {
   "cell_type": "code",
   "execution_count": 39,
   "metadata": {},
   "outputs": [
    {
     "name": "stdout",
     "output_type": "stream",
     "text": [
      "reference      but if her mother finds out about this shell g...\n",
      "translation    but if her mom finds out about that she will t...\n",
      "Name: 24258, dtype: object\n"
     ]
    }
   ],
   "source": [
    "# Fix\n",
    "dff.dropna(inplace=True)\n",
    "print(dff.iloc[24257])\n",
    "dff.to_csv('../data/interim/training_data.csv', index=False)"
   ]
  },
  {
   "cell_type": "markdown",
   "metadata": {},
   "source": [
    "Works now!"
   ]
  }
 ],
 "metadata": {
  "kernelspec": {
   "display_name": "ml",
   "language": "python",
   "name": "python3"
  },
  "language_info": {
   "codemirror_mode": {
    "name": "ipython",
    "version": 3
   },
   "file_extension": ".py",
   "mimetype": "text/x-python",
   "name": "python",
   "nbconvert_exporter": "python",
   "pygments_lexer": "ipython3",
   "version": "3.12.0"
  }
 },
 "nbformat": 4,
 "nbformat_minor": 2
}
