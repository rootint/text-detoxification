{
 "cells": [
  {
   "cell_type": "markdown",
   "metadata": {},
   "source": [
    "# Performance Evaluator\n",
    "\n",
    "This notebook defines the model that is responsible for evaluating how toxic the input text is. This is needed to evaluate the performance of the models and see how much less toxic the text was made."
   ]
  },
  {
   "cell_type": "code",
   "execution_count": 2,
   "metadata": {},
   "outputs": [],
   "source": [
    "from sklearn.model_selection import train_test_split\n",
    "from collections import Counter\n",
    "import pandas as pd"
   ]
  },
  {
   "cell_type": "markdown",
   "metadata": {},
   "source": [
    "### Preprocessing the data\n",
    "Here, I lower the text and remove all special symbols because the text's toxicity doesn't depend on the capital letters, or special symbols"
   ]
  },
  {
   "cell_type": "code",
   "execution_count": 3,
   "metadata": {},
   "outputs": [
    {
     "data": {
      "text/html": [
       "<div>\n",
       "<style scoped>\n",
       "    .dataframe tbody tr th:only-of-type {\n",
       "        vertical-align: middle;\n",
       "    }\n",
       "\n",
       "    .dataframe tbody tr th {\n",
       "        vertical-align: top;\n",
       "    }\n",
       "\n",
       "    .dataframe thead th {\n",
       "        text-align: right;\n",
       "    }\n",
       "</style>\n",
       "<table border=\"1\" class=\"dataframe\">\n",
       "  <thead>\n",
       "    <tr style=\"text-align: right;\">\n",
       "      <th></th>\n",
       "      <th>Unnamed: 0</th>\n",
       "      <th>reference</th>\n",
       "      <th>translation</th>\n",
       "      <th>similarity</th>\n",
       "      <th>lenght_diff</th>\n",
       "      <th>ref_tox</th>\n",
       "      <th>trn_tox</th>\n",
       "    </tr>\n",
       "  </thead>\n",
       "  <tbody>\n",
       "    <tr>\n",
       "      <th>0</th>\n",
       "      <td>0</td>\n",
       "      <td>if alkar is flooding her with psychic waste th...</td>\n",
       "      <td>if alkar floods her with her mental waste it w...</td>\n",
       "      <td>0.785171</td>\n",
       "      <td>0.010309</td>\n",
       "      <td>0.014195</td>\n",
       "      <td>0.981983</td>\n",
       "    </tr>\n",
       "    <tr>\n",
       "      <th>1</th>\n",
       "      <td>1</td>\n",
       "      <td>now youre getting nasty</td>\n",
       "      <td>youre becoming disgusting</td>\n",
       "      <td>0.749687</td>\n",
       "      <td>0.071429</td>\n",
       "      <td>0.065473</td>\n",
       "      <td>0.999039</td>\n",
       "    </tr>\n",
       "    <tr>\n",
       "      <th>2</th>\n",
       "      <td>2</td>\n",
       "      <td>well we could spare your life for one</td>\n",
       "      <td>well we can spare your life</td>\n",
       "      <td>0.919051</td>\n",
       "      <td>0.268293</td>\n",
       "      <td>0.213313</td>\n",
       "      <td>0.985068</td>\n",
       "    </tr>\n",
       "    <tr>\n",
       "      <th>3</th>\n",
       "      <td>3</td>\n",
       "      <td>ah monkey youve got to snap out of it</td>\n",
       "      <td>monkey you have to wake up</td>\n",
       "      <td>0.664333</td>\n",
       "      <td>0.309524</td>\n",
       "      <td>0.053362</td>\n",
       "      <td>0.994215</td>\n",
       "    </tr>\n",
       "    <tr>\n",
       "      <th>4</th>\n",
       "      <td>4</td>\n",
       "      <td>ive got orders to put her down</td>\n",
       "      <td>i have orders to kill her</td>\n",
       "      <td>0.726639</td>\n",
       "      <td>0.181818</td>\n",
       "      <td>0.009402</td>\n",
       "      <td>0.999348</td>\n",
       "    </tr>\n",
       "  </tbody>\n",
       "</table>\n",
       "</div>"
      ],
      "text/plain": [
       "   Unnamed: 0                                          reference  \\\n",
       "0           0  if alkar is flooding her with psychic waste th...   \n",
       "1           1                            now youre getting nasty   \n",
       "2           2              well we could spare your life for one   \n",
       "3           3              ah monkey youve got to snap out of it   \n",
       "4           4                     ive got orders to put her down   \n",
       "\n",
       "                                         translation  similarity  lenght_diff  \\\n",
       "0  if alkar floods her with her mental waste it w...    0.785171     0.010309   \n",
       "1                          youre becoming disgusting    0.749687     0.071429   \n",
       "2                        well we can spare your life    0.919051     0.268293   \n",
       "3                         monkey you have to wake up    0.664333     0.309524   \n",
       "4                          i have orders to kill her    0.726639     0.181818   \n",
       "\n",
       "    ref_tox   trn_tox  \n",
       "0  0.014195  0.981983  \n",
       "1  0.065473  0.999039  \n",
       "2  0.213313  0.985068  \n",
       "3  0.053362  0.994215  \n",
       "4  0.009402  0.999348  "
      ]
     },
     "execution_count": 3,
     "metadata": {},
     "output_type": "execute_result"
    }
   ],
   "source": [
    "df = pd.read_csv('../data/raw/filtered.tsv', sep='\\t')\n",
    "df.head()\n",
    "df['reference'] = df['reference'].str.lower().str.replace(r\"[^a-z0-9\\s]\", \"\", regex=True).str.strip()\n",
    "df['translation'] = df['translation'].str.lower().str.replace(r\"[^a-z0-9\\s]\", \"\", regex=True).str.strip()\n",
    "\n",
    "df.head()"
   ]
  },
  {
   "cell_type": "code",
   "execution_count": 1,
   "metadata": {},
   "outputs": [
    {
     "ename": "NameError",
     "evalue": "name 'df' is not defined",
     "output_type": "error",
     "traceback": [
      "\u001b[0;31m---------------------------------------------------------------------------\u001b[0m",
      "\u001b[0;31mNameError\u001b[0m                                 Traceback (most recent call last)",
      "\u001b[1;32m/Users/random/Data/Innopolis/pmldl/assignment1/notebooks/1.5_performance_evaluator.ipynb Cell 5\u001b[0m line \u001b[0;36m2\n\u001b[1;32m      <a href='vscode-notebook-cell:/Users/random/Data/Innopolis/pmldl/assignment1/notebooks/1.5_performance_evaluator.ipynb#W4sZmlsZQ%3D%3D?line=0'>1</a>\u001b[0m \u001b[39m# Create DataFrame for reference texts and their toxicity levels\u001b[39;00m\n\u001b[0;32m----> <a href='vscode-notebook-cell:/Users/random/Data/Innopolis/pmldl/assignment1/notebooks/1.5_performance_evaluator.ipynb#W4sZmlsZQ%3D%3D?line=1'>2</a>\u001b[0m ref_data \u001b[39m=\u001b[39m df[[\u001b[39m'\u001b[39m\u001b[39mreference\u001b[39m\u001b[39m'\u001b[39m, \u001b[39m'\u001b[39m\u001b[39mref_tox\u001b[39m\u001b[39m'\u001b[39m]]\u001b[39m.\u001b[39mrename(columns\u001b[39m=\u001b[39m{\u001b[39m'\u001b[39m\u001b[39mreference\u001b[39m\u001b[39m'\u001b[39m: \u001b[39m'\u001b[39m\u001b[39mtext\u001b[39m\u001b[39m'\u001b[39m, \u001b[39m'\u001b[39m\u001b[39mref_tox\u001b[39m\u001b[39m'\u001b[39m: \u001b[39m'\u001b[39m\u001b[39mtoxicity\u001b[39m\u001b[39m'\u001b[39m})\n\u001b[1;32m      <a href='vscode-notebook-cell:/Users/random/Data/Innopolis/pmldl/assignment1/notebooks/1.5_performance_evaluator.ipynb#W4sZmlsZQ%3D%3D?line=3'>4</a>\u001b[0m \u001b[39m# Create DataFrame for translation texts and their toxicity levels\u001b[39;00m\n\u001b[1;32m      <a href='vscode-notebook-cell:/Users/random/Data/Innopolis/pmldl/assignment1/notebooks/1.5_performance_evaluator.ipynb#W4sZmlsZQ%3D%3D?line=4'>5</a>\u001b[0m trn_data \u001b[39m=\u001b[39m df[[\u001b[39m'\u001b[39m\u001b[39mtranslation\u001b[39m\u001b[39m'\u001b[39m, \u001b[39m'\u001b[39m\u001b[39mtrn_tox\u001b[39m\u001b[39m'\u001b[39m]]\u001b[39m.\u001b[39mrename(columns\u001b[39m=\u001b[39m{\u001b[39m'\u001b[39m\u001b[39mtranslation\u001b[39m\u001b[39m'\u001b[39m: \u001b[39m'\u001b[39m\u001b[39mtext\u001b[39m\u001b[39m'\u001b[39m, \u001b[39m'\u001b[39m\u001b[39mtrn_tox\u001b[39m\u001b[39m'\u001b[39m: \u001b[39m'\u001b[39m\u001b[39mtoxicity\u001b[39m\u001b[39m'\u001b[39m})\n",
      "\u001b[0;31mNameError\u001b[0m: name 'df' is not defined"
     ]
    }
   ],
   "source": [
    "# Create DataFrame for reference texts and their toxicity levels\n",
    "ref_data = df[['reference', 'ref_tox']].rename(columns={'reference': 'text', 'ref_tox': 'toxicity'})\n",
    "\n",
    "# Create DataFrame for translation texts and their toxicity levels\n",
    "trn_data = df[['translation', 'trn_tox']].rename(columns={'translation': 'text', 'trn_tox': 'toxicity'})\n",
    "\n",
    "# data = ref_data.append(trn_data, ignore_index=True)\n",
    "data = pd.concat([ref_data, trn_data])\n",
    "data = data[(data['toxicity'] <= 0.3) | (data['toxicity'] >= 0.7)]\n",
    "print(data.shape)\n",
    "data[:10000].to_csv('sample.csv')\n",
    "data = pd.read_csv('sample.csv')"
   ]
  },
  {
   "cell_type": "markdown",
   "metadata": {},
   "source": [
    "### Evening out the distribution for training"
   ]
  },
  {
   "cell_type": "code",
   "execution_count": 249,
   "metadata": {},
   "outputs": [
    {
     "data": {
      "text/plain": [
       "toxicity\n",
       "0.977233    9\n",
       "0.885350    6\n",
       "0.979246    6\n",
       "0.987264    6\n",
       "0.998770    5\n",
       "           ..\n",
       "0.005547    1\n",
       "0.000113    1\n",
       "0.232639    1\n",
       "0.007771    1\n",
       "0.959173    1\n",
       "Name: count, Length: 7454, dtype: int64"
      ]
     },
     "execution_count": 249,
     "metadata": {},
     "output_type": "execute_result"
    }
   ],
   "source": [
    "from sklearn.utils import resample\n",
    "\n",
    "majority_class = data[data.toxicity <= 0.7]\n",
    "minority_class = data[data.toxicity > 0.7]\n",
    "\n",
    "# Upsample minority class\n",
    "minority_upsampled = resample(\n",
    "    minority_class,\n",
    "    replace=True,  # sample with replacement\n",
    "    n_samples=len(majority_class),  # match number in majority class\n",
    "    random_state=42,\n",
    ")  # reproducible results\n",
    "\n",
    "# Combine majority class with upsampled minority class\n",
    "data = pd.concat([majority_class, minority_upsampled])\n",
    "\n",
    "# Check new class counts\n",
    "data.toxicity.value_counts()"
   ]
  },
  {
   "cell_type": "code",
   "execution_count": 250,
   "metadata": {},
   "outputs": [],
   "source": [
    "# Function to tokenize the text and build a vocabulary\n",
    "def tokenize_and_build_vocab(texts):\n",
    "    # Tokenize the text\n",
    "    tokenized_texts = [text.lower().split() for text in texts]\n",
    "\n",
    "    # Count the words\n",
    "    word_counts = Counter(word for sentence in tokenized_texts for word in sentence)\n",
    "\n",
    "    # Build the vocabulary - mapping from word to unique index\n",
    "    # Start indexing from 1 since we'll use 0 for padding\n",
    "    vocabulary = {word: idx + 1 for idx, (word, _) in enumerate(word_counts.items())}\n",
    "\n",
    "    return tokenized_texts, vocabulary\n",
    "\n",
    "# Tokenize text and build vocab\n",
    "tokenized_texts, vocabulary = tokenize_and_build_vocab(data['text'])"
   ]
  },
  {
   "cell_type": "code",
   "execution_count": 251,
   "metadata": {},
   "outputs": [
    {
     "data": {
      "text/plain": [
       "(9819,\n",
       " {'if': 1,\n",
       "  'alkar': 2,\n",
       "  'is': 3,\n",
       "  'flooding': 4,\n",
       "  'her': 5,\n",
       "  'with': 6,\n",
       "  'psychic': 7,\n",
       "  'waste': 8,\n",
       "  'that': 9,\n",
       "  'explains': 10})"
      ]
     },
     "execution_count": 251,
     "metadata": {},
     "output_type": "execute_result"
    }
   ],
   "source": [
    "# Maximum sequence length\n",
    "MAX_SEQ_LEN = max(len(sentence) for sentence in tokenized_texts)\n",
    "\n",
    "# Convert tokenized texts to sequences of indices\n",
    "sequences = [[vocabulary[word] for word in sentence] for sentence in tokenized_texts]\n",
    "\n",
    "# Pad sequences to the maximum sequence length\n",
    "padded_sequences = [seq + [0] * (MAX_SEQ_LEN - len(seq)) for seq in sequences]\n",
    "\n",
    "# Convert labels to a list\n",
    "labels = data['toxicity'].tolist()\n",
    "\n",
    "# Split the data into training and validation sets\n",
    "X_train, X_test, y_train, y_test = train_test_split(padded_sequences, labels, test_size=0.2, random_state=42)\n",
    "X_train, X_val, y_train, y_val = train_test_split(X_train, y_train, test_size=0.25, random_state=42)  # 0.25 x 0.8 = 0.2\n",
    "\n",
    "# Output the size of the vocabulary and a small part of it for verification\n",
    "len(vocabulary), dict(list(vocabulary.items())[:10])"
   ]
  },
  {
   "cell_type": "code",
   "execution_count": 252,
   "metadata": {},
   "outputs": [
    {
     "data": {
      "image/png": "[encoded data removed]",
      "text/plain": [
       "<Figure size 1800x500 with 2 Axes>"
      ]
     },
     "metadata": {},
     "output_type": "display_data"
    },
    {
     "data": {
      "text/plain": [
       "count    8994.000000\n",
       "mean        0.496686\n",
       "std         0.469209\n",
       "min         0.000034\n",
       "25%         0.008016\n",
       "50%         0.499402\n",
       "75%         0.989275\n",
       "max         0.999712\n",
       "Name: toxicity, dtype: float64"
      ]
     },
     "execution_count": 252,
     "metadata": {},
     "output_type": "execute_result"
    }
   ],
   "source": [
    "# Get descriptive statistics\n",
    "descriptive_stats = data['toxicity'].describe()\n",
    "\n",
    "# Generate histogram, density plot, and box plot\n",
    "import matplotlib.pyplot as plt\n",
    "import seaborn as sns\n",
    "\n",
    "# Set up the matplotlib figure\n",
    "fig, axes = plt.subplots(1, 2, figsize=(18, 5))\n",
    "\n",
    "# Histogram\n",
    "sns.histplot(data['toxicity'], bins=30, kde=False, ax=axes[0])\n",
    "axes[0].set_title('Histogram of Toxicity')\n",
    "\n",
    "# Density Plot\n",
    "sns.kdeplot(data['toxicity'], ax=axes[1])\n",
    "axes[1].set_title('Density Plot of Toxicity')\n",
    "\n",
    "plt.tight_layout()\n",
    "plt.show()\n",
    "\n",
    "descriptive_stats"
   ]
  },
  {
   "cell_type": "markdown",
   "metadata": {},
   "source": [
    "As we can see, the distributions of toxic and non-toxic texts are somewhat equal, which makes the model less biased towards any of the classes."
   ]
  },
  {
   "cell_type": "markdown",
   "metadata": {},
   "source": [
    "### Defining the dataset"
   ]
  },
  {
   "cell_type": "code",
   "execution_count": 253,
   "metadata": {},
   "outputs": [
    {
     "data": {
      "text/plain": [
       "[tensor([[  63,  283,  213,  ...,    0,    0,    0],\n",
       "         [  16,   79,   63,  ...,    0,    0,    0],\n",
       "         [ 496, 1259,   90,  ...,    0,    0,    0],\n",
       "         ...,\n",
       "         [  52,  272,  146,  ...,    0,    0,    0],\n",
       "         [  65,   66,   11,  ...,    0,    0,    0],\n",
       "         [  63,  269,   65,  ...,    0,    0,    0]]),\n",
       " tensor([9.9388e-01, 1.4715e-02, 4.6061e-05, 3.2364e-02, 9.5224e-01, 1.8657e-02,\n",
       "         3.3313e-04, 9.9890e-01, 9.9815e-01, 5.9548e-02, 9.9599e-01, 1.2956e-01,\n",
       "         9.2717e-01, 9.3310e-01, 2.1833e-01, 8.9658e-01, 9.4034e-05, 2.4048e-01,\n",
       "         9.9928e-01, 3.1970e-03, 5.4368e-05, 1.7776e-02, 7.2012e-01, 9.9954e-01,\n",
       "         4.5095e-03, 1.1772e-04, 2.6436e-02, 9.9488e-01, 9.8559e-01, 9.4482e-01,\n",
       "         5.7637e-05, 9.8598e-01])]"
      ]
     },
     "execution_count": 253,
     "metadata": {},
     "output_type": "execute_result"
    }
   ],
   "source": [
    "from torch.utils.data import Dataset, DataLoader\n",
    "import torch\n",
    "\n",
    "# Define a custom Dataset class\n",
    "class TextDataset(Dataset):\n",
    "    def __init__(self, sequences, labels):\n",
    "        self.sequences = sequences\n",
    "        self.labels = labels\n",
    "\n",
    "    def __len__(self):\n",
    "        return len(self.sequences)\n",
    "\n",
    "    def __getitem__(self, idx):\n",
    "        return torch.tensor(self.sequences[idx]), torch.tensor(self.labels[idx], dtype=torch.float32)\n",
    "\n",
    "# Create Dataset instances for training and validation sets\n",
    "train_dataset = TextDataset(X_train, y_train)\n",
    "val_dataset = TextDataset(X_val, y_val)\n",
    "test_dataset = TextDataset(X_test, y_test)\n",
    "\n",
    "# Create DataLoaders for training and validation sets\n",
    "batch_size = 32  # You can adjust the batch size\n",
    "train_loader = DataLoader(train_dataset, batch_size=batch_size, shuffle=True)\n",
    "val_loader = DataLoader(val_dataset, batch_size=batch_size, shuffle=False)\n",
    "test_loader = DataLoader(test_dataset, batch_size=batch_size, shuffle=False)\n",
    "\n",
    "# Check the first batch to make sure everything is working\n",
    "next(iter(train_loader))"
   ]
  },
  {
   "cell_type": "markdown",
   "metadata": {},
   "source": [
    "### Defining the model"
   ]
  },
  {
   "cell_type": "code",
   "execution_count": 254,
   "metadata": {},
   "outputs": [
    {
     "data": {
      "text/plain": [
       "TextClassifier(\n",
       "  (embedding): Embedding(9820, 512)\n",
       "  (fc1): Linear(in_features=512, out_features=784, bias=True)\n",
       "  (bn1): BatchNorm1d(784, eps=1e-05, momentum=0.1, affine=True, track_running_stats=True)\n",
       "  (dropout1): Dropout(p=0.5, inplace=False)\n",
       "  (fc2): Linear(in_features=784, out_features=784, bias=True)\n",
       "  (bn2): BatchNorm1d(784, eps=1e-05, momentum=0.1, affine=True, track_running_stats=True)\n",
       "  (dropout2): Dropout(p=0.5, inplace=False)\n",
       "  (fc3): Linear(in_features=784, out_features=1, bias=True)\n",
       ")"
      ]
     },
     "execution_count": 254,
     "metadata": {},
     "output_type": "execute_result"
    }
   ],
   "source": [
    "import torch\n",
    "import torch.nn as nn\n",
    "import torch.nn.functional as F\n",
    "\n",
    "\n",
    "class TextClassifier(nn.Module):\n",
    "    def __init__(self, vocab_size, embed_dim, hidden_dim, output_dim, dropout_rate=0.5):\n",
    "        super(TextClassifier, self).__init__()\n",
    "        # Embedding layer that turns words into a vector of a specified size\n",
    "        self.embedding = nn.Embedding(vocab_size, embed_dim)\n",
    "\n",
    "        # Fully connected layers\n",
    "        self.fc1 = nn.Linear(embed_dim, hidden_dim)\n",
    "        self.bn1 = nn.BatchNorm1d(hidden_dim)  # Batch normalization\n",
    "        self.dropout1 = nn.Dropout(dropout_rate)  # Dropout\n",
    "\n",
    "        self.fc2 = nn.Linear(hidden_dim, hidden_dim)\n",
    "        self.bn2 = nn.BatchNorm1d(hidden_dim)  # Batch normalization\n",
    "        self.dropout2 = nn.Dropout(dropout_rate)  # Dropout\n",
    "\n",
    "        self.fc3 = nn.Linear(hidden_dim, output_dim)\n",
    "\n",
    "    def forward(self, x):\n",
    "        # Pass data through embedding layer\n",
    "        x = self.embedding(x)\n",
    "\n",
    "        # The average of the word embeddings\n",
    "        x = torch.mean(x, dim=1)\n",
    "\n",
    "        # Pass data through fully-connected layers with ReLU activation function\n",
    "        x = self.fc1(x)\n",
    "        x = self.bn1(x)\n",
    "        x = F.relu(x)\n",
    "        x = self.dropout1(x)\n",
    "\n",
    "        x = self.fc2(x)\n",
    "        x = self.bn2(x)\n",
    "        x = F.relu(x)\n",
    "        x = self.dropout2(x)\n",
    "\n",
    "        # Output layer with sigmoid activation function\n",
    "        x = self.fc3(x)\n",
    "\n",
    "        return x\n",
    "\n",
    "\n",
    "# Instantiate the model\n",
    "vocab_size = len(vocabulary) + 1  # +1 for padding index 0\n",
    "embed_dim = 512  # Size of the word embeddings\n",
    "hidden_dim = 784  # Size of the hidden layers\n",
    "output_dim = 1  # Single output for toxicity score\n",
    "\n",
    "\n",
    "def init_weights(m):\n",
    "    if isinstance(m, nn.Linear):\n",
    "        torch.nn.init.kaiming_normal_(m.weight, mode=\"fan_out\", nonlinearity=\"relu\")\n",
    "        if m.bias is not None:\n",
    "            m.bias.data.fill_(0.01)\n",
    "\n",
    "\n",
    "model = TextClassifier(vocab_size, embed_dim, hidden_dim, output_dim).to(\"mps\")\n",
    "\n",
    "model.apply(init_weights)\n",
    "model"
   ]
  },
  {
   "cell_type": "code",
   "execution_count": 257,
   "metadata": {},
   "outputs": [],
   "source": [
    "min_val_loss = 10e10\n",
    "train_loss = []\n",
    "val_loss = []"
   ]
  },
  {
   "cell_type": "code",
   "execution_count": 274,
   "metadata": {},
   "outputs": [
    {
     "name": "stdout",
     "output_type": "stream",
     "text": [
      "Epoch 0: Train Loss: 0.0127, Val Loss: 0.1713\n",
      "Epoch 1: Train Loss: 0.0132, Val Loss: 0.1809\n",
      "Epoch 2: Train Loss: 0.0152, Val Loss: 0.2657\n",
      "Epoch 3: Train Loss: 0.0146, Val Loss: 0.1414\n",
      "Epoch 4: Train Loss: 0.0143, Val Loss: 0.1924\n",
      "Epoch 5: Train Loss: 0.0136, Val Loss: 0.2012\n",
      "Epoch 6: Train Loss: 0.0129, Val Loss: 0.1714\n",
      "Epoch 7: Train Loss: 0.0129, Val Loss: 0.2399\n",
      "Epoch 8: Train Loss: 0.0127, Val Loss: 0.1469\n",
      "Epoch 9: Train Loss: 0.0130, Val Loss: 0.1595\n",
      "Epoch 10: Train Loss: 0.0127, Val Loss: 0.1715\n",
      "Epoch 11: Train Loss: 0.0133, Val Loss: 0.2349\n",
      "Epoch 12: Train Loss: 0.0124, Val Loss: 0.1541\n",
      "Epoch 13: Train Loss: 0.0116, Val Loss: 0.1781\n",
      "Epoch 14: Train Loss: 0.0140, Val Loss: 0.1531\n",
      "Epoch 15: Train Loss: 0.0124, Val Loss: 0.1397\n",
      "Epoch 16: Train Loss: 0.0137, Val Loss: 0.2056\n",
      "Epoch 17: Train Loss: 0.0129, Val Loss: 0.1504\n",
      "Epoch 18: Train Loss: 0.0118, Val Loss: 0.2030\n",
      "Epoch 19: Train Loss: 0.0114, Val Loss: 0.1554\n",
      "Epoch 20: Train Loss: 0.0113, Val Loss: 0.1480\n",
      "Epoch 21: Train Loss: 0.0123, Val Loss: 0.1762\n",
      "Epoch 22: Train Loss: 0.0114, Val Loss: 0.1401\n",
      "Epoch 23: Train Loss: 0.0116, Val Loss: 0.1503\n",
      "Epoch 24: Train Loss: 0.0124, Val Loss: 0.1591\n",
      "Epoch 25: Train Loss: 0.0121, Val Loss: 0.1505\n",
      "Epoch 26: Train Loss: 0.0118, Val Loss: 0.1413\n",
      "Epoch 27: Train Loss: 0.0109, Val Loss: 0.1441\n",
      "Epoch 28: Train Loss: 0.0114, Val Loss: 0.1709\n",
      "Epoch 29: Train Loss: 0.0127, Val Loss: 0.1472\n",
      "Epoch 30: Train Loss: 0.0130, Val Loss: 0.1422\n",
      "Epoch 31: Train Loss: 0.0129, Val Loss: 0.1634\n",
      "Epoch 32: Train Loss: 0.0117, Val Loss: 0.2299\n",
      "Epoch 33: Train Loss: 0.0120, Val Loss: 0.1462\n",
      "Epoch 34: Train Loss: 0.0121, Val Loss: 0.1495\n",
      "Epoch 35: Train Loss: 0.0116, Val Loss: 0.1400\n",
      "Epoch 36: Train Loss: 0.0124, Val Loss: 0.2848\n",
      "Epoch 37: Train Loss: 0.0109, Val Loss: 0.1459\n",
      "Epoch 38: Train Loss: 0.0127, Val Loss: 0.1521\n",
      "Epoch 39: Train Loss: 0.0125, Val Loss: 0.1687\n",
      "Epoch 40: Train Loss: 0.0112, Val Loss: 0.1478\n",
      "Epoch 41: Train Loss: 0.0112, Val Loss: 0.1433\n",
      "Epoch 42: Train Loss: 0.0117, Val Loss: 0.1880\n",
      "Epoch 43: Train Loss: 0.0121, Val Loss: 0.1446\n",
      "Epoch 44: Train Loss: 0.0115, Val Loss: 0.1456\n",
      "Epoch 45: Train Loss: 0.0126, Val Loss: 0.1478\n",
      "Epoch 46: Train Loss: 0.0137, Val Loss: 0.1866\n",
      "Epoch 47: Train Loss: 0.0125, Val Loss: 0.1964\n",
      "Epoch 48: Train Loss: 0.0114, Val Loss: 0.1409\n",
      "Epoch 49: Train Loss: 0.0114, Val Loss: 0.1650\n",
      "Epoch 50: Train Loss: 0.0117, Val Loss: 0.1911\n",
      "Epoch 51: Train Loss: 0.0115, Val Loss: 0.2286\n",
      "Epoch 52: Train Loss: 0.0117, Val Loss: 0.1445\n",
      "Epoch 53: Train Loss: 0.0114, Val Loss: 0.1616\n",
      "Epoch 54: Train Loss: 0.0114, Val Loss: 0.1427\n",
      "Epoch 55: Train Loss: 0.0105, Val Loss: 0.1407\n",
      "Epoch 56: Train Loss: 0.0115, Val Loss: 0.1539\n",
      "Epoch 57: Train Loss: 0.0107, Val Loss: 0.1936\n",
      "Epoch 58: Train Loss: 0.0108, Val Loss: 0.1501\n",
      "Epoch 59: Train Loss: 0.0110, Val Loss: 0.1539\n",
      "Epoch 60: Train Loss: 0.0110, Val Loss: 0.1459\n",
      "Epoch 61: Train Loss: 0.0116, Val Loss: 0.1522\n",
      "Epoch 62: Train Loss: 0.0110, Val Loss: 0.1447\n",
      "Epoch 63: Train Loss: 0.0110, Val Loss: 0.3437\n",
      "Epoch 64: Train Loss: 0.0115, Val Loss: 0.1483\n",
      "Epoch 65: Train Loss: 0.0105, Val Loss: 0.1498\n",
      "Epoch 66: Train Loss: 0.0113, Val Loss: 0.2186\n",
      "Epoch 67: Train Loss: 0.0119, Val Loss: 0.1485\n",
      "Epoch 68: Train Loss: 0.0123, Val Loss: 0.1727\n",
      "Epoch 69: Train Loss: 0.0102, Val Loss: 0.1544\n",
      "Epoch 70: Train Loss: 0.0111, Val Loss: 0.1539\n",
      "Epoch 71: Train Loss: 0.0108, Val Loss: 0.2024\n",
      "Epoch 72: Train Loss: 0.0103, Val Loss: 0.1734\n",
      "Epoch 73: Train Loss: 0.0097, Val Loss: 0.1792\n",
      "Epoch 74: Train Loss: 0.0108, Val Loss: 0.1389\n",
      "Epoch 75: Train Loss: 0.0101, Val Loss: 0.1793\n",
      "Epoch 76: Train Loss: 0.0105, Val Loss: 0.1565\n",
      "Epoch 77: Train Loss: 0.0110, Val Loss: 0.2362\n",
      "Epoch 78: Train Loss: 0.0118, Val Loss: 0.1492\n",
      "Epoch 79: Train Loss: 0.0114, Val Loss: 0.1538\n",
      "Epoch 80: Train Loss: 0.0121, Val Loss: 0.1536\n",
      "Epoch 81: Train Loss: 0.0112, Val Loss: 0.1447\n",
      "Epoch 82: Train Loss: 0.0104, Val Loss: 0.2190\n",
      "Epoch 83: Train Loss: 0.0105, Val Loss: 0.1510\n",
      "Epoch 84: Train Loss: 0.0111, Val Loss: 0.1659\n",
      "Epoch 85: Train Loss: 0.0104, Val Loss: 0.1557\n",
      "Epoch 86: Train Loss: 0.0111, Val Loss: 0.1893\n",
      "Epoch 87: Train Loss: 0.0105, Val Loss: 0.1464\n",
      "Epoch 88: Train Loss: 0.0111, Val Loss: 0.2419\n",
      "Epoch 89: Train Loss: 0.0126, Val Loss: 0.1546\n",
      "Epoch 90: Train Loss: 0.0101, Val Loss: 0.1483\n",
      "Epoch 91: Train Loss: 0.0109, Val Loss: 0.1670\n",
      "Epoch 92: Train Loss: 0.0103, Val Loss: 0.1562\n",
      "Epoch 93: Train Loss: 0.0105, Val Loss: 0.3038\n",
      "Epoch 94: Train Loss: 0.0102, Val Loss: 0.2119\n",
      "Epoch 95: Train Loss: 0.0097, Val Loss: 0.1639\n",
      "Epoch 96: Train Loss: 0.0104, Val Loss: 0.1505\n",
      "Epoch 97: Train Loss: 0.0102, Val Loss: 0.2122\n",
      "Epoch 98: Train Loss: 0.0103, Val Loss: 0.1568\n",
      "Epoch 99: Train Loss: 0.0110, Val Loss: 0.1416\n"
     ]
    }
   ],
   "source": [
    "num_epochs = 100\n",
    "device = \"mps\"\n",
    "loss_fn = nn.MSELoss()\n",
    "\n",
    "\n",
    "def train(model, train_loader, val_loader):\n",
    "    global min_val_loss, train_loss, val_loss\n",
    "\n",
    "    optimizer = torch.optim.Adam(model.parameters(), lr=0.001)\n",
    "    for epoch in range(num_epochs):\n",
    "        # Training\n",
    "        model.train()\n",
    "        total_loss = 0\n",
    "        for i, batch in enumerate(train_loader):\n",
    "            inputs = batch[0].to(device)\n",
    "            labels = batch[1].to(device)\n",
    "            optimizer.zero_grad()\n",
    "            outputs = model(inputs).flatten()\n",
    "            loss = loss_fn(\n",
    "                outputs, labels.float()\n",
    "            )  # Ensure labels are float for MSELoss\n",
    "            loss.backward()\n",
    "            optimizer.step()\n",
    "            total_loss += loss.item()\n",
    "\n",
    "        avg_train_loss = total_loss / len(train_loader)\n",
    "        train_loss.append(avg_train_loss)\n",
    "\n",
    "        # Validation\n",
    "        model.eval()\n",
    "        total_val_loss = 0\n",
    "        with torch.no_grad():\n",
    "            for batch in val_loader:\n",
    "                inputs = batch[0].to(device)\n",
    "                labels = batch[1].to(device)\n",
    "                outputs = model(inputs).flatten()\n",
    "                loss = loss_fn(\n",
    "                    outputs, labels.float()\n",
    "                )  # Ensure labels are float for MSELoss\n",
    "                total_val_loss += loss.item()\n",
    "\n",
    "        avg_val_loss = total_val_loss / len(val_loader)\n",
    "        val_loss.append(avg_val_loss)\n",
    "        print(\n",
    "            f\"Epoch {epoch}: Train Loss: {avg_train_loss:.4f}, Val Loss: {avg_val_loss:.4f}\"\n",
    "        )\n",
    "        # Saving the best model as soon as it's created.\n",
    "        if avg_val_loss < min_val_loss:\n",
    "            min_val_loss = avg_val_loss\n",
    "            torch.save(model.state_dict(), \"best_evaluator\")\n",
    "\n",
    "\n",
    "train(model, train_loader, val_loader)"
   ]
  },
  {
   "cell_type": "code",
   "execution_count": 275,
   "metadata": {},
   "outputs": [
    {
     "data": {
      "image/png": "[encoded data removed]",
      "text/plain": [
       "<Figure size 1000x500 with 1 Axes>"
      ]
     },
     "metadata": {},
     "output_type": "display_data"
    }
   ],
   "source": [
    "import matplotlib.pyplot as plt\n",
    "\n",
    "# Plotting the training and validation losses\n",
    "plt.figure(figsize=(10, 5))\n",
    "plt.plot(train_loss, label='Training Loss')\n",
    "plt.plot(val_loss, label='Validation Loss')\n",
    "plt.title('Training and Validation Loss')\n",
    "plt.xlabel('Epoch')\n",
    "plt.ylabel('Loss')\n",
    "plt.legend()\n",
    "plt.grid(True)\n",
    "plt.show()"
   ]
  },
  {
   "cell_type": "markdown",
   "metadata": {},
   "source": [
    "### Testing the model"
   ]
  },
  {
   "cell_type": "code",
   "execution_count": 282,
   "metadata": {},
   "outputs": [],
   "source": [
    "def evaluate(model, dataloader):\n",
    "    model.load_state_dict(torch.load('best_evaluator'))\n",
    "    model.eval()\n",
    "    optimizer = torch.optim.Adam(model.parameters())\n",
    "\n",
    "    for i, batch in enumerate(dataloader):\n",
    "        inputs = batch[0].to(device)\n",
    "        labels = batch[1].to(device)\n",
    "        optimizer.zero_grad()\n",
    "        outputs = model(inputs).flatten()\n",
    "        loss = loss_fn(outputs, labels)\n",
    "\n",
    "        if i % 100 == 0:\n",
    "            print(i, '/', len(dataloader), 'Loss:', loss.item())\n",
    "            for i in range(32):\n",
    "                print(labels[i].item(), outputs[i].item())"
   ]
  },
  {
   "cell_type": "code",
   "execution_count": 283,
   "metadata": {},
   "outputs": [
    {
     "name": "stdout",
     "output_type": "stream",
     "text": [
      "0 / 169 Loss: 0.021162789314985275\n",
      "0.018957087770104408 0.1239703893661499\n",
      "0.9963453412055969 0.9192773103713989\n",
      "0.9984588623046875 0.8311715126037598\n",
      "0.00946585088968277 0.20417943596839905\n",
      "0.999221920967102 0.8924989700317383\n",
      "0.9189627170562744 0.8681637048721313\n",
      "0.8541130423545837 0.4500808119773865\n",
      "0.9924502372741699 0.830974280834198\n",
      "0.031145934015512466 0.06250089406967163\n",
      "0.9967503547668457 0.9482603073120117\n",
      "0.9339482188224792 0.8799529075622559\n",
      "0.9508895874023438 0.7453978061676025\n",
      "0.03676387667655945 0.07261013984680176\n",
      "0.9877138137817383 0.9496090412139893\n",
      "7.291758811334148e-05 0.1222628802061081\n",
      "0.00045856848009862006 0.06274420022964478\n",
      "4.786606223206036e-05 0.1857748031616211\n",
      "0.0003469506627880037 0.11556056141853333\n",
      "0.0010239522671326995 0.20277424156665802\n",
      "0.9946134686470032 0.8371152877807617\n",
      "0.9995718598365784 0.9453529119491577\n",
      "0.9987241625785828 0.9071637988090515\n",
      "0.9996917247772217 0.8310335278511047\n",
      "5.505592343979515e-05 0.26967889070510864\n",
      "0.0018999946769326925 0.10058870911598206\n",
      "0.018964387476444244 0.08047983050346375\n",
      "0.006870206445455551 0.10304230451583862\n",
      "0.0009606227977201343 0.13853605091571808\n",
      "0.998528242111206 0.8745942711830139\n",
      "0.016745802015066147 0.16727803647518158\n",
      "0.9988113641738892 0.8755158185958862\n",
      "0.9971174001693726 1.0163228511810303\n",
      "100 / 169 Loss: 0.021954644471406937\n",
      "0.9598996043205261 0.8336052298545837\n",
      "9.969161328626797e-05 0.11053478717803955\n",
      "0.9974825978279114 0.8678684830665588\n",
      "0.9872134327888489 0.8594932556152344\n",
      "0.01941622607409954 0.11469286680221558\n",
      "0.9673735499382019 0.8853833675384521\n",
      "0.006932125426828861 0.05064186453819275\n",
      "0.9965572357177734 0.8865523934364319\n",
      "0.9863529205322266 0.8332505226135254\n",
      "0.0635024905204773 0.2251863032579422\n",
      "0.7012919783592224 0.1845250278711319\n",
      "0.9795761108398438 0.7313889265060425\n",
      "0.023300277069211006 0.1024414598941803\n",
      "0.011901509948074818 0.21002376079559326\n",
      "0.9978785514831543 0.9589657783508301\n",
      "0.9754666090011597 0.8046002388000488\n",
      "0.9887890219688416 0.870210587978363\n",
      "0.003431140910834074 0.21687841415405273\n",
      "0.9772483706474304 0.9530683159828186\n",
      "0.02144383266568184 0.09147590398788452\n",
      "0.974013090133667 0.9386706352233887\n",
      "8.926408918341622e-05 0.08347219228744507\n",
      "0.006028682924807072 0.11973768472671509\n",
      "0.005273689515888691 0.05125778913497925\n",
      "0.9309037327766418 0.9330659508705139\n",
      "0.012772324495017529 0.06925427913665771\n",
      "0.9980698227882385 0.9825059175491333\n",
      "0.9427245259284973 0.7764599323272705\n",
      "0.0004316804406698793 0.1492428481578827\n",
      "0.9995623230934143 0.9556616544723511\n",
      "0.032752882689237595 0.0585445761680603\n",
      "0.0012629461707547307 0.1146303117275238\n"
     ]
    }
   ],
   "source": [
    "evaluate(model, train_loader)"
   ]
  },
  {
   "cell_type": "markdown",
   "metadata": {},
   "source": [
    "As we can see, the model can predict the text's toxicity pretty accurately, and we can use this function to estimate the text detoxification models' performance."
   ]
  }
 ],
 "metadata": {
  "kernelspec": {
   "display_name": "pmldl",
   "language": "python",
   "name": "python3"
  },
  "language_info": {
   "codemirror_mode": {
    "name": "ipython",
    "version": 3
   },
   "file_extension": ".py",
   "mimetype": "text/x-python",
   "name": "python",
   "nbconvert_exporter": "python",
   "pygments_lexer": "ipython3",
   "version": "3.9.18"
  }
 },
 "nbformat": 4,
 "nbformat_minor": 2
}
