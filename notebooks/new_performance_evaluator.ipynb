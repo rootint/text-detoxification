{
 "cells": [
  {
   "cell_type": "code",
   "execution_count": 4,
   "metadata": {},
   "outputs": [
    {
     "name": "stdout",
     "output_type": "stream",
     "text": [
      "Text: I love you\n",
      "Toxicity prediction: tensor([[0.0009, 0.0001, 0.0002, 0.0002, 0.0002, 0.0002]],\n",
      "       grad_fn=<SigmoidBackward0>)\n",
      "Text: I hate you\n",
      "Toxicity prediction: tensor([[0.9510, 0.0079, 0.0237, 0.0392, 0.1376, 0.0207]],\n",
      "       grad_fn=<SigmoidBackward0>)\n"
     ]
    }
   ],
   "source": [
    "from transformers import AutoModelForSequenceClassification, AutoTokenizer\n",
    "import torch\n",
    "\n",
    "# Load the model and tokenizer\n",
    "model_name = \"unitary/toxic-bert\"\n",
    "tokenizer = AutoTokenizer.from_pretrained(model_name)\n",
    "model = AutoModelForSequenceClassification.from_pretrained(model_name)\n",
    "\n",
    "# Function to predict toxicity\n",
    "def predict_toxicity(text):\n",
    "    inputs = tokenizer(text, return_tensors=\"pt\", padding=True, truncation=True, max_length=512)\n",
    "    outputs = model(**inputs)\n",
    "    predictions = torch.sigmoid(outputs.logits)\n",
    "    # Convert predictions to binary 0 or 1 (customize threshold as needed)\n",
    "    predicted_labels = predictions.float()\n",
    "    return predicted_labels\n",
    "\n",
    "# Example usage\n",
    "texts = [\"I love you\", \"I hate you\"]  # Replace with your text\n",
    "for text in texts:\n",
    "    print(f\"Text: {text}\")\n",
    "    print(f\"Toxicity prediction: {predict_toxicity(text)}\")\n"
   ]
  },
  {
   "cell_type": "code",
   "execution_count": null,
   "metadata": {},
   "outputs": [],
   "source": []
  }
 ],
 "metadata": {
  "kernelspec": {
   "display_name": "pmldl",
   "language": "python",
   "name": "python3"
  },
  "language_info": {
   "codemirror_mode": {
    "name": "ipython",
    "version": 3
   },
   "file_extension": ".py",
   "mimetype": "text/x-python",
   "name": "python",
   "nbconvert_exporter": "python",
   "pygments_lexer": "ipython3",
   "version": "3.9.18"
  }
 },
 "nbformat": 4,
 "nbformat_minor": 2
}
