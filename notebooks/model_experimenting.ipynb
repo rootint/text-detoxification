{
 "cells": [
  {
   "cell_type": "code",
   "execution_count": 60,
   "metadata": {},
   "outputs": [
    {
     "data": {
      "text/html": [
       "<div>\n",
       "<style scoped>\n",
       "    .dataframe tbody tr th:only-of-type {\n",
       "        vertical-align: middle;\n",
       "    }\n",
       "\n",
       "    .dataframe tbody tr th {\n",
       "        vertical-align: top;\n",
       "    }\n",
       "\n",
       "    .dataframe thead th {\n",
       "        text-align: right;\n",
       "    }\n",
       "</style>\n",
       "<table border=\"1\" class=\"dataframe\">\n",
       "  <thead>\n",
       "    <tr style=\"text-align: right;\">\n",
       "      <th></th>\n",
       "      <th>reference</th>\n",
       "      <th>translation</th>\n",
       "    </tr>\n",
       "  </thead>\n",
       "  <tbody>\n",
       "    <tr>\n",
       "      <th>0</th>\n",
       "      <td>shite  i dont think theyre very happy</td>\n",
       "      <td>i dont think theyre very happy</td>\n",
       "    </tr>\n",
       "    <tr>\n",
       "      <th>1</th>\n",
       "      <td>if you want to understand animals i mean i mea...</td>\n",
       "      <td>if you want to understand game i mean really u...</td>\n",
       "    </tr>\n",
       "    <tr>\n",
       "      <th>2</th>\n",
       "      <td>sonia that smells awful</td>\n",
       "      <td>sonio that is a terrible thing</td>\n",
       "    </tr>\n",
       "    <tr>\n",
       "      <th>3</th>\n",
       "      <td>sam dolans father is out of his mind</td>\n",
       "      <td>sam dolans father checks out</td>\n",
       "    </tr>\n",
       "    <tr>\n",
       "      <th>4</th>\n",
       "      <td>theres a guy out there whos fucking serious</td>\n",
       "      <td>this is one very serious boy we have out there</td>\n",
       "    </tr>\n",
       "  </tbody>\n",
       "</table>\n",
       "</div>"
      ],
      "text/plain": [
       "                                           reference  \\\n",
       "0              shite  i dont think theyre very happy   \n",
       "1  if you want to understand animals i mean i mea...   \n",
       "2                            sonia that smells awful   \n",
       "3               sam dolans father is out of his mind   \n",
       "4        theres a guy out there whos fucking serious   \n",
       "\n",
       "                                         translation  \n",
       "0                     i dont think theyre very happy  \n",
       "1  if you want to understand game i mean really u...  \n",
       "2                     sonio that is a terrible thing  \n",
       "3                       sam dolans father checks out  \n",
       "4     this is one very serious boy we have out there  "
      ]
     },
     "execution_count": 60,
     "metadata": {},
     "output_type": "execute_result"
    }
   ],
   "source": [
    "import pandas as pd\n",
    "\n",
    "data = pd.read_csv('../data/interim/training_data.csv')\n",
    "data.head()"
   ]
  },
  {
   "cell_type": "code",
   "execution_count": 62,
   "metadata": {},
   "outputs": [
    {
     "name": "stderr",
     "output_type": "stream",
     "text": [
      "[nltk_data] Downloading package punkt to /Users/random/nltk_data...\n",
      "[nltk_data]   Package punkt is already up-to-date!\n"
     ]
    }
   ],
   "source": [
    "from torch.utils.data import Dataset, DataLoader\n",
    "from torch.nn.utils.rnn import pad_sequence\n",
    "from collections import Counter\n",
    "import torch\n",
    "import nltk\n",
    "nltk.download('punkt')\n",
    "from nltk.tokenize import word_tokenize\n",
    "\n",
    "# Define a dataset class\n",
    "class TextDataset(Dataset):\n",
    "    def __init__(self, toxic_texts, nontoxic_texts):\n",
    "        self.toxic_texts = toxic_texts\n",
    "        self.nontoxic_texts = nontoxic_texts\n",
    "        self.vocab = self.build_vocab(self.toxic_texts + self.nontoxic_texts)\n",
    "    \n",
    "    def build_vocab(self, texts):\n",
    "        # Tokenize text and create a vocabulary\n",
    "        counter = Counter()\n",
    "        for text in texts:\n",
    "            counter.update(word_tokenize(text.lower()))\n",
    "        # Create a vocab dictionary that maps words to unique indices, start from 1 for padding\n",
    "        vocab = {word: i+1 for i, (word, _) in enumerate(counter.most_common())}\n",
    "        # Add a special token for unknown words\n",
    "        vocab['<UNK>'] = len(vocab) + 1\n",
    "        return vocab\n",
    "    \n",
    "    def text_to_sequence(self, text):\n",
    "        # Convert text to a sequence of integers\n",
    "        tokens = word_tokenize(text.lower())\n",
    "        return [self.vocab.get(token, self.vocab['<UNK>']) for token in tokens]\n",
    "\n",
    "    def __len__(self):\n",
    "        return len(self.toxic_texts)\n",
    "    \n",
    "    def __getitem__(self, idx):\n",
    "        toxic_seq = self.text_to_sequence(self.toxic_texts[idx])\n",
    "        nontoxic_seq = self.text_to_sequence(self.nontoxic_texts[idx])\n",
    "        return torch.tensor(toxic_seq), torch.tensor(nontoxic_seq)\n",
    "\n",
    "    @staticmethod\n",
    "    def collate_fn(batch):\n",
    "        toxic_seqs, nontoxic_seqs = zip(*batch)\n",
    "        toxic_seqs_padded = pad_sequence(toxic_seqs, batch_first=True, padding_value=0)\n",
    "        nontoxic_seqs_padded = pad_sequence(nontoxic_seqs, batch_first=True, padding_value=0)\n",
    "        return toxic_seqs_padded, nontoxic_seqs_padded\n",
    "\n",
    "# Instantiate the dataset\n",
    "text_dataset = TextDataset(data['reference'].tolist(), data['translation'].tolist())\n"
   ]
  },
  {
   "cell_type": "code",
   "execution_count": 67,
   "metadata": {},
   "outputs": [
    {
     "data": {
      "text/plain": [
       "(tensor([  23,    2,   49,    4,  453,  807,    6,  175,    6,  175,    2,  203,\n",
       "           21, 3232]),\n",
       " tensor([  23,    2,   49,    4,  453,  536,    6,  175,  125,  453,   57,    2,\n",
       "          196,   21,    3, 2731]))"
      ]
     },
     "execution_count": 67,
     "metadata": {},
     "output_type": "execute_result"
    }
   ],
   "source": [
    "data_loader = DataLoader(text_dataset, batch_size=4, shuffle=True, collate_fn=TextDataset.collate_fn)\n",
    "\n",
    "# Let's check the vocabulary size\n",
    "vocab_size = len(text_dataset.vocab)\n",
    "vocab_size"
   ]
  },
  {
   "cell_type": "code",
   "execution_count": 64,
   "metadata": {},
   "outputs": [],
   "source": [
    "import torch.nn as nn\n",
    "\n",
    "class DetoxifyModel(nn.Module):\n",
    "    def __init__(self, vocab_size, embedding_dim, hidden_dim):\n",
    "        super(DetoxifyModel, self).__init__()\n",
    "        self.embedding = nn.Embedding(vocab_size, embedding_dim)\n",
    "        self.rnn = nn.LSTM(embedding_dim, hidden_dim, batch_first=True)\n",
    "        self.fc = nn.Linear(hidden_dim, vocab_size)\n",
    "    \n",
    "    def forward(self, x):\n",
    "        x = self.embedding(x)\n",
    "        output, (hidden, cell) = self.rnn(x)\n",
    "        x = self.fc(output)\n",
    "        return x"
   ]
  },
  {
   "cell_type": "code",
   "execution_count": null,
   "metadata": {},
   "outputs": [],
   "source": [
    "model = DetoxifyModel(vocab_size=vocab_size, embedding_dim=)"
   ]
  },
  {
   "cell_type": "code",
   "execution_count": 65,
   "metadata": {},
   "outputs": [],
   "source": [
    "def train(model, data_loader, loss_fn, optimizer, epochs):\n",
    "    model.train()\n",
    "    for epoch in range(epochs):\n",
    "        for toxic_seqs, nontoxic_seqs in data_loader:\n",
    "            optimizer.zero_grad()\n",
    "            output = model(toxic_seqs)\n",
    "            loss = loss_fn(output.transpose(1, 2), nontoxic_seqs)\n",
    "            loss.backward()\n",
    "            optimizer.step()\n",
    "            print(f'Epoch {epoch}, Loss: {loss.item()}')"
   ]
  },
  {
   "cell_type": "code",
   "execution_count": null,
   "metadata": {},
   "outputs": [],
   "source": []
  }
 ],
 "metadata": {
  "kernelspec": {
   "display_name": "pmldl",
   "language": "python",
   "name": "python3"
  },
  "language_info": {
   "codemirror_mode": {
    "name": "ipython",
    "version": 3
   },
   "file_extension": ".py",
   "mimetype": "text/x-python",
   "name": "python",
   "nbconvert_exporter": "python",
   "pygments_lexer": "ipython3",
   "version": "3.9.16"
  }
 },
 "nbformat": 4,
 "nbformat_minor": 2
}
